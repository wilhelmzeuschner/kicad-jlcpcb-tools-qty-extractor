{
 "cells": [
  {
   "cell_type": "code",
   "execution_count": 6,
   "metadata": {},
   "outputs": [
    {
     "name": "stdout",
     "output_type": "stream",
     "text": [
      "Processed file saved as: PROCESSED_sample_bom_2024-06-30_01-38-03.csv\n"
     ]
    }
   ],
   "source": [
    "import pandas as pd\n",
    "from datetime import datetime\n",
    "\n",
    "# Read the CSV file\n",
    "file_path = 'sample_bom.csv'  # Replace with your actual file path\n",
    "df = pd.read_csv(file_path)\n",
    "\n",
    "# Function to count comma-separated values in the 'Designator' column\n",
    "def count_designators(designator):\n",
    "    if pd.isna(designator):\n",
    "        return 0\n",
    "    return len(designator.split(','))\n",
    "\n",
    "# Apply the function to the 'Designator' column and create a new 'Quantity' column\n",
    "df['Quantity'] = df['Designator'].apply(count_designators)\n",
    "\n",
    "# Generate the new file name\n",
    "base_file_name = file_path.split('/')[-1]  # Extract original file name\n",
    "prefix = \"PROCESSED_\"\n",
    "current_time = datetime.now().strftime('%Y-%m-%d_%H-%M-%S')  # Format: YYYY-MM-DD_HH-MM-SS\n",
    "new_file_name = f\"{prefix}{base_file_name.replace('.csv', '')}_{current_time}.csv\"\n",
    "\n",
    "# Save the updated DataFrame to the new CSV file\n",
    "df.to_csv(new_file_name, index=False)\n",
    "\n",
    "print(f\"Processed file saved as: {new_file_name}\")\n"
   ]
  }
 ],
 "metadata": {
  "kernelspec": {
   "display_name": "Python 3",
   "language": "python",
   "name": "python3"
  },
  "language_info": {
   "codemirror_mode": {
    "name": "ipython",
    "version": 3
   },
   "file_extension": ".py",
   "mimetype": "text/x-python",
   "name": "python",
   "nbconvert_exporter": "python",
   "pygments_lexer": "ipython3",
   "version": "3.11.0"
  }
 },
 "nbformat": 4,
 "nbformat_minor": 2
}

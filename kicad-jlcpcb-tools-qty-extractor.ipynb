{
 "cells": [
  {
   "cell_type": "code",
   "execution_count": 3,
   "metadata": {},
   "outputs": [
    {
     "name": "stdout",
     "output_type": "stream",
     "text": [
      "Processed file saved as: D:/OneDrivePersonal/OneDrive/Privat - Hobby/kicad-jlcpcb-tools-qty-extractor/BOM files\\PROCESSED_sample_bom_2024-06-30_01-45-30.csv\n"
     ]
    }
   ],
   "source": [
    "import pandas as pd\n",
    "from datetime import datetime\n",
    "from tkinter import Tk\n",
    "from tkinter.filedialog import askopenfilename\n",
    "import os\n",
    "\n",
    "# Create and hide the root Tk window\n",
    "root = Tk()\n",
    "\n",
    "# Prompt the user to select a CSV file\n",
    "file_path = askopenfilename(title=\"Select the CSV file\", filetypes=[(\"CSV files\", \"*.csv\")])\n",
    "\n",
    "# Hide the root Tk window after the file dialog is done\n",
    "root.withdraw()\n",
    "\n",
    "# Check if the user has selected a file\n",
    "if not file_path:\n",
    "    print(\"No file selected. Exiting.\")\n",
    "else:\n",
    "    # Read the CSV file\n",
    "    df = pd.read_csv(file_path)\n",
    "    \n",
    "    # Function to count comma-separated values in the 'Designator' column\n",
    "    def count_designators(designator):\n",
    "        if pd.isna(designator):\n",
    "            return 0\n",
    "        return len(designator.split(','))\n",
    "    \n",
    "    # Apply the function to the 'Designator' column and create a new 'Quantity' column\n",
    "    df['Quantity'] = df['Designator'].apply(count_designators)\n",
    "    \n",
    "    # Extract directory path and original file name\n",
    "    directory_path = os.path.dirname(file_path)\n",
    "    base_file_name = os.path.basename(file_path)  # Extract original file name\n",
    "    \n",
    "    # Generate the new file name\n",
    "    prefix = \"PROCESSED_\"\n",
    "    current_time = datetime.now().strftime('%Y-%m-%d_%H-%M-%S')  # Format: YYYY-MM-DD_HH-MM-SS\n",
    "    new_file_name = f\"{prefix}{base_file_name.replace('.csv', '')}_{current_time}.csv\"\n",
    "    \n",
    "    # Complete path for new file\n",
    "    new_file_path = os.path.join(directory_path, new_file_name)\n",
    "    \n",
    "    # Save the updated DataFrame to the new CSV file\n",
    "    df.to_csv(new_file_path, index=False)\n",
    "    \n",
    "    print(f\"Processed file saved as: {new_file_path}\")\n"
   ]
  }
 ],
 "metadata": {
  "kernelspec": {
   "display_name": "Python 3",
   "language": "python",
   "name": "python3"
  },
  "language_info": {
   "codemirror_mode": {
    "name": "ipython",
    "version": 3
   },
   "file_extension": ".py",
   "mimetype": "text/x-python",
   "name": "python",
   "nbconvert_exporter": "python",
   "pygments_lexer": "ipython3",
   "version": "3.11.0"
  }
 },
 "nbformat": 4,
 "nbformat_minor": 2
}
